{
 "cells": [
  {
   "cell_type": "code",
   "execution_count": 1,
   "id": "fe92d956-c32d-4aaf-b51e-34b61d418315",
   "metadata": {},
   "outputs": [],
   "source": [
    "import pandas as pd"
   ]
  },
  {
   "cell_type": "code",
   "execution_count": 2,
   "id": "0f4d37e4-145f-4ea7-b2e5-6b30b2ccc617",
   "metadata": {},
   "outputs": [],
   "source": [
    "dados = pd.read_csv('./fifa.csv')"
   ]
  },
  {
   "cell_type": "code",
   "execution_count": 3,
   "id": "01db1a03-1270-4466-9a09-06b2ef6ca2b1",
   "metadata": {},
   "outputs": [],
   "source": [
    "dados['Total'] = dados['Acceleration'] + dados['Agility'] + dados['Reactions']"
   ]
  },
  {
   "cell_type": "code",
   "execution_count": 4,
   "id": "866a3079-deea-4986-9fc8-be57bf3b3f25",
   "metadata": {},
   "outputs": [],
   "source": [
    "dados = dados[['Name', 'Total']]"
   ]
  },
  {
   "cell_type": "code",
   "execution_count": 5,
   "id": "abcc97d6-8660-4915-9d48-28b839dcbd53",
   "metadata": {},
   "outputs": [
    {
     "data": {
      "text/html": [
       "<div>\n",
       "<style scoped>\n",
       "    .dataframe tbody tr th:only-of-type {\n",
       "        vertical-align: middle;\n",
       "    }\n",
       "\n",
       "    .dataframe tbody tr th {\n",
       "        vertical-align: top;\n",
       "    }\n",
       "\n",
       "    .dataframe thead th {\n",
       "        text-align: right;\n",
       "    }\n",
       "</style>\n",
       "<table border=\"1\" class=\"dataframe\">\n",
       "  <thead>\n",
       "    <tr style=\"text-align: right;\">\n",
       "      <th></th>\n",
       "      <th>Name</th>\n",
       "      <th>Total</th>\n",
       "    </tr>\n",
       "  </thead>\n",
       "  <tbody>\n",
       "    <tr>\n",
       "      <th>2</th>\n",
       "      <td>Neymar Jr</td>\n",
       "      <td>284.0</td>\n",
       "    </tr>\n",
       "    <tr>\n",
       "      <th>5</th>\n",
       "      <td>E. Hazard</td>\n",
       "      <td>279.0</td>\n",
       "    </tr>\n",
       "    <tr>\n",
       "      <th>0</th>\n",
       "      <td>L. Messi</td>\n",
       "      <td>277.0</td>\n",
       "    </tr>\n",
       "    <tr>\n",
       "      <th>26</th>\n",
       "      <td>M. Salah</td>\n",
       "      <td>276.0</td>\n",
       "    </tr>\n",
       "    <tr>\n",
       "      <th>50</th>\n",
       "      <td>D. Mertens</td>\n",
       "      <td>275.0</td>\n",
       "    </tr>\n",
       "    <tr>\n",
       "      <th>...</th>\n",
       "      <td>...</td>\n",
       "      <td>...</td>\n",
       "    </tr>\n",
       "    <tr>\n",
       "      <th>13279</th>\n",
       "      <td>P. Mazzocchi</td>\n",
       "      <td>NaN</td>\n",
       "    </tr>\n",
       "    <tr>\n",
       "      <th>13280</th>\n",
       "      <td>Y. Ammour</td>\n",
       "      <td>NaN</td>\n",
       "    </tr>\n",
       "    <tr>\n",
       "      <th>13281</th>\n",
       "      <td>Jwa Joon Hyeop</td>\n",
       "      <td>NaN</td>\n",
       "    </tr>\n",
       "    <tr>\n",
       "      <th>13282</th>\n",
       "      <td>O. Marrufo</td>\n",
       "      <td>NaN</td>\n",
       "    </tr>\n",
       "    <tr>\n",
       "      <th>13283</th>\n",
       "      <td>Han Pengfei</td>\n",
       "      <td>NaN</td>\n",
       "    </tr>\n",
       "  </tbody>\n",
       "</table>\n",
       "<p>18207 rows × 2 columns</p>\n",
       "</div>"
      ],
      "text/plain": [
       "                 Name  Total\n",
       "2           Neymar Jr  284.0\n",
       "5           E. Hazard  279.0\n",
       "0            L. Messi  277.0\n",
       "26           M. Salah  276.0\n",
       "50         D. Mertens  275.0\n",
       "...               ...    ...\n",
       "13279    P. Mazzocchi    NaN\n",
       "13280       Y. Ammour    NaN\n",
       "13281  Jwa Joon Hyeop    NaN\n",
       "13282      O. Marrufo    NaN\n",
       "13283     Han Pengfei    NaN\n",
       "\n",
       "[18207 rows x 2 columns]"
      ]
     },
     "execution_count": 5,
     "metadata": {},
     "output_type": "execute_result"
    }
   ],
   "source": [
    "dados = dados.sort_values('Total', ascending=False)\n",
    "dados"
   ]
  },
  {
   "cell_type": "code",
   "execution_count": 7,
   "id": "acc4189e-9137-489f-8ed8-268b44d0dbd5",
   "metadata": {},
   "outputs": [],
   "source": [
    "dados.to_excel('dados2.xlsx', index=False)"
   ]
  },
  {
   "cell_type": "code",
   "execution_count": 8,
   "id": "13e69853-4017-4db2-b944-36167c013150",
   "metadata": {},
   "outputs": [],
   "source": [
    "dados.to_csv('dados3.txt', index=False, sep='\\t')"
   ]
  }
 ],
 "metadata": {
  "kernelspec": {
   "display_name": "Python 3 (ipykernel)",
   "language": "python",
   "name": "python3"
  },
  "language_info": {
   "codemirror_mode": {
    "name": "ipython",
    "version": 3
   },
   "file_extension": ".py",
   "mimetype": "text/x-python",
   "name": "python",
   "nbconvert_exporter": "python",
   "pygments_lexer": "ipython3",
   "version": "3.9.7"
  }
 },
 "nbformat": 4,
 "nbformat_minor": 5
}
