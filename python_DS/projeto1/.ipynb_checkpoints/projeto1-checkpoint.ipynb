{
 "cells": [
  {
   "cell_type": "code",
   "execution_count": 1,
   "id": "c4ea3089-2f06-41f6-b1fc-b9bab1f9f9e8",
   "metadata": {},
   "outputs": [],
   "source": [
    "import pandas as pd"
   ]
  },
  {
   "cell_type": "code",
   "execution_count": 8,
   "id": "8e96b7aa-c8a2-45b5-944c-65578ae0e357",
   "metadata": {},
   "outputs": [],
   "source": [
    "df = pd.read_csv('titanic.csv')\n",
    "filter1 = df[['Name', 'Age', 'Sex', 'Pclass', 'Survived']]\n",
    "filter1 = filter1.loc[(df['Sex'] == 'female') & (df['Pclass'] == 1) & (df['Survived'] == 1)]"
   ]
  },
  {
   "cell_type": "code",
   "execution_count": 10,
   "id": "d41f49fd-1826-4fed-8c58-17adb4c25478",
   "metadata": {},
   "outputs": [],
   "source": [
    "filter1.to_csv('comparacao.csv', index=False)"
   ]
  }
 ],
 "metadata": {
  "kernelspec": {
   "display_name": "Python 3 (ipykernel)",
   "language": "python",
   "name": "python3"
  },
  "language_info": {
   "codemirror_mode": {
    "name": "ipython",
    "version": 3
   },
   "file_extension": ".py",
   "mimetype": "text/x-python",
   "name": "python",
   "nbconvert_exporter": "python",
   "pygments_lexer": "ipython3",
   "version": "3.9.7"
  }
 },
 "nbformat": 4,
 "nbformat_minor": 5
}
