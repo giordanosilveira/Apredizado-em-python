{
 "cells": [
  {
   "cell_type": "code",
   "execution_count": 1,
   "id": "a806a8d2-8ff8-4fb8-919f-e4f208d36b1c",
   "metadata": {},
   "outputs": [],
   "source": [
    "# numpy.org/doc/stable/"
   ]
  },
  {
   "cell_type": "code",
   "execution_count": 6,
   "id": "3e12c0a8-4e4e-48e3-8940-506d01171a05",
   "metadata": {},
   "outputs": [],
   "source": [
    "import numpy as np\n",
    "import sys"
   ]
  },
  {
   "cell_type": "code",
   "execution_count": 3,
   "id": "0c0c530a-59c2-4332-a758-ae6224ad655c",
   "metadata": {},
   "outputs": [],
   "source": [
    "lista1 = [1, 2, 3, 4, 5]\n",
    "b = np.array([1, 2, 3, 4, 5])"
   ]
  },
  {
   "cell_type": "code",
   "execution_count": 5,
   "id": "9bc2b363-a4d6-41cd-b458-88bed89cadfc",
   "metadata": {},
   "outputs": [
    {
     "name": "stdout",
     "output_type": "stream",
     "text": [
      "[1, 2, 3, 4, 5]\n",
      "[1 2 3 4 5]\n"
     ]
    }
   ],
   "source": [
    "print(lista1)\n",
    "print(b)"
   ]
  },
  {
   "cell_type": "code",
   "execution_count": 8,
   "id": "d0e90cbc-74bc-49bf-97cd-38c416c17d69",
   "metadata": {},
   "outputs": [
    {
     "name": "stdout",
     "output_type": "stream",
     "text": [
      "120\n",
      "40\n"
     ]
    }
   ],
   "source": [
    "print(sys.getsizeof(lista1))\n",
    "print(b.nbytes)"
   ]
  }
 ],
 "metadata": {
  "kernelspec": {
   "display_name": "Python 3 (ipykernel)",
   "language": "python",
   "name": "python3"
  },
  "language_info": {
   "codemirror_mode": {
    "name": "ipython",
    "version": 3
   },
   "file_extension": ".py",
   "mimetype": "text/x-python",
   "name": "python",
   "nbconvert_exporter": "python",
   "pygments_lexer": "ipython3",
   "version": "3.9.7"
  }
 },
 "nbformat": 4,
 "nbformat_minor": 5
}
